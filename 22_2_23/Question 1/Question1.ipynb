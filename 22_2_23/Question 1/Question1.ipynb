{
 "cells": [
  {
   "cell_type": "code",
   "execution_count": 18,
   "id": "461c0202-e6cb-435a-9ba8-16ded637f2a2",
   "metadata": {},
   "outputs": [],
   "source": [
    "import logging"
   ]
  },
  {
   "cell_type": "code",
   "execution_count": 19,
   "id": "ac371094-88eb-489f-b648-e8fc7bfae9d8",
   "metadata": {},
   "outputs": [],
   "source": [
    "logging.basicConfig(filename = \"Question1.log\" , level = logging.DEBUG, format = '%(asctime)s %(levelname)s %(message)s ')"
   ]
  },
  {
   "cell_type": "code",
   "execution_count": 20,
   "id": "ed8a36f5-a699-455a-9907-8e0734cca8d7",
   "metadata": {},
   "outputs": [],
   "source": [
    "logging.info(\"Here we wish to track the changes that we made\")"
   ]
  },
  {
   "cell_type": "code",
   "execution_count": 21,
   "id": "a04df955-5a49-4712-b427-56457cc4a0af",
   "metadata": {},
   "outputs": [],
   "source": [
    "import pandas as pd"
   ]
  },
  {
   "cell_type": "code",
   "execution_count": 22,
   "id": "a02f7463-1943-495c-ac84-ac78f3b98e81",
   "metadata": {},
   "outputs": [],
   "source": [
    "data = [4,8,15,16,23]"
   ]
  },
  {
   "cell_type": "code",
   "execution_count": 23,
   "id": "7b5f7ffc-0ea8-4f23-a254-a91fa9225b73",
   "metadata": {},
   "outputs": [],
   "source": [
    "logging.info(\"First of all we make data_csv.csv file\")"
   ]
  },
  {
   "cell_type": "code",
   "execution_count": 24,
   "id": "59702e2e-bf8e-4253-8577-138a39c26a47",
   "metadata": {},
   "outputs": [],
   "source": [
    "import csv"
   ]
  },
  {
   "cell_type": "code",
   "execution_count": 25,
   "id": "49079555-65e1-4e9e-af86-926cd32d4c44",
   "metadata": {},
   "outputs": [],
   "source": [
    "with open(\"data_csv.csv\" , 'w') as f:\n",
    "    w = csv.writer(f)\n",
    "    w.writerow(data)"
   ]
  },
  {
   "cell_type": "code",
   "execution_count": 26,
   "id": "89fee9c0-eda4-46e8-a182-b09c65d4a472",
   "metadata": {},
   "outputs": [],
   "source": [
    "logging.info(\"we save the data from it : \")"
   ]
  },
  {
   "cell_type": "code",
   "execution_count": 27,
   "id": "47eb0847-c9d6-418a-948e-c7a35fecfcfb",
   "metadata": {},
   "outputs": [],
   "source": [
    "logging.info(\"Now we wish to read data using Pandas: \")"
   ]
  },
  {
   "cell_type": "code",
   "execution_count": 28,
   "id": "dbec72df-1c7b-4ec0-b2dd-219e3b0818be",
   "metadata": {},
   "outputs": [],
   "source": [
    "import pandas as pd"
   ]
  },
  {
   "cell_type": "code",
   "execution_count": 29,
   "id": "a154b0b6-9b94-4e1c-ba60-a8abd3873ee1",
   "metadata": {},
   "outputs": [],
   "source": [
    "df = pd.read_csv(\"data_csv.csv\")"
   ]
  },
  {
   "cell_type": "code",
   "execution_count": 30,
   "id": "613ff2ee-933d-4843-bd5c-faace4fbd53f",
   "metadata": {},
   "outputs": [
    {
     "data": {
      "text/html": [
       "<div>\n",
       "<style scoped>\n",
       "    .dataframe tbody tr th:only-of-type {\n",
       "        vertical-align: middle;\n",
       "    }\n",
       "\n",
       "    .dataframe tbody tr th {\n",
       "        vertical-align: top;\n",
       "    }\n",
       "\n",
       "    .dataframe thead th {\n",
       "        text-align: right;\n",
       "    }\n",
       "</style>\n",
       "<table border=\"1\" class=\"dataframe\">\n",
       "  <thead>\n",
       "    <tr style=\"text-align: right;\">\n",
       "      <th></th>\n",
       "      <th>4</th>\n",
       "      <th>8</th>\n",
       "      <th>15</th>\n",
       "      <th>16</th>\n",
       "      <th>23</th>\n",
       "    </tr>\n",
       "  </thead>\n",
       "  <tbody>\n",
       "  </tbody>\n",
       "</table>\n",
       "</div>"
      ],
      "text/plain": [
       "Empty DataFrame\n",
       "Columns: [4, 8, 15, 16, 23]\n",
       "Index: []"
      ]
     },
     "execution_count": 30,
     "metadata": {},
     "output_type": "execute_result"
    }
   ],
   "source": [
    "df"
   ]
  },
  {
   "cell_type": "code",
   "execution_count": 31,
   "id": "773c0897-01c0-4d7c-be43-725f8e5cc601",
   "metadata": {},
   "outputs": [],
   "source": [
    "logging.info(\"Our execution is complete\")"
   ]
  }
 ],
 "metadata": {
  "kernelspec": {
   "display_name": "Python 3 (ipykernel)",
   "language": "python",
   "name": "python3"
  },
  "language_info": {
   "codemirror_mode": {
    "name": "ipython",
    "version": 3
   },
   "file_extension": ".py",
   "mimetype": "text/x-python",
   "name": "python",
   "nbconvert_exporter": "python",
   "pygments_lexer": "ipython3",
   "version": "3.10.8"
  }
 },
 "nbformat": 4,
 "nbformat_minor": 5
}
